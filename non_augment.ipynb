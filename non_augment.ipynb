{
 "cells": [
  {
   "attachments": {},
   "cell_type": "markdown",
   "metadata": {},
   "source": [
    "# Data\n",
    "\n",
    "Since the original data is augmented, here I erase all duplicates to obtain the dataset before augmentation."
   ]
  },
  {
   "cell_type": "code",
   "execution_count": 18,
   "metadata": {},
   "outputs": [],
   "source": [
    "import os\n",
    "import shutil"
   ]
  },
  {
   "cell_type": "code",
   "execution_count": 13,
   "metadata": {},
   "outputs": [],
   "source": [
    "img_idx = [20*n + 1 for n in range(50)]\n",
    "img_name = [str(idx).rjust(5,'0') + '.png' for idx in img_idx]"
   ]
  },
  {
   "cell_type": "code",
   "execution_count": 31,
   "metadata": {},
   "outputs": [],
   "source": [
    "data_path = 'data/fish/'\n",
    "for species in [f for f in os.listdir(data_path) if f != 'info']:\n",
    "    species_path_src = data_path + species + '/' + species\n",
    "    gt_path_src = species_path_src + ' GT'\n",
    "\n",
    "    # Creating folder structure\n",
    "    fish_path_dst = 'data/fish_na/' + species\n",
    "    species_path_dst = fish_path_dst + '/' + species\n",
    "    gt_path_dst = species_path_dst  + '_GT'\n",
    "    os.mkdir(fish_path_dst)\n",
    "    os.mkdir(species_path_dst)\n",
    "    os.mkdir(gt_path_dst)\n",
    "\n",
    "    # Copying non augmented images and masks in new folders\n",
    "    for name in img_name:\n",
    "        shutil.copy(species_path_src + '/' + name, species_path_dst + '/' + name) \n",
    "        shutil.copy(gt_path_src + '/' + name, gt_path_dst + '/' + name)\n"
   ]
  }
 ],
 "metadata": {
  "kernelspec": {
   "display_name": "Python 3",
   "language": "python",
   "name": "python3"
  },
  "language_info": {
   "codemirror_mode": {
    "name": "ipython",
    "version": 3
   },
   "file_extension": ".py",
   "mimetype": "text/x-python",
   "name": "python",
   "nbconvert_exporter": "python",
   "pygments_lexer": "ipython3",
   "version": "3.10.6"
  },
  "orig_nbformat": 4
 },
 "nbformat": 4,
 "nbformat_minor": 2
}
